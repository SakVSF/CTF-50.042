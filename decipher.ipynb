{
 "cells": [
  {
   "cell_type": "markdown",
   "metadata": {},
   "source": [
    "# Known Plain Text Attack\n",
    "After the attacker manage to use GCD to crack the private key and get the flag, the attack will realise that the flag is a bunch of gibberish bytes.\n",
    "\n",
    "`b'SRa\\x1d\\x17tC_\\x1fT\\x1eXl#_N2\\x1cSaRA SYDMh-]M,Sa\\x190W!YDG$-]UUZgp'`\n",
    "\n",
    "The attackers will realise that it is not a hash because the length is weird so it is like to be substitution cipher.\n",
    "\n",
    "The attack can first try to reserve the ciphertext using the portion of the known text"
   ]
  },
  {
   "cell_type": "code",
   "execution_count": 23,
   "metadata": {},
   "outputs": [
    {
     "name": "stdout",
     "output_type": "stream",
     "text": [
      "monkey\u00195u*t.By5r)7(\u0017v)/\u001a#>\u00033#\u0002)7o\u0006-w/\u001a\u001dz\u00033++0=s\n"
     ]
    }
   ],
   "source": [
    "CIPHER_FLAG = b'SRa\\x1d\\x17tC_\\x1fT\\x1eXl#_N2\\x1cSaRA SYDMh-]M,Sa\\x190W!YDG$-]UUZgp'\n",
    "known_FLAG_portion = b'fcs22{' + b'*' * (len(CIPHER_FLAG)-7) + b'}'\n",
    "\n",
    "possible_key = \"\"\n",
    "t = [ [] for i in range(len(CIPHER_FLAG))]\n",
    "for i in range(len(CIPHER_FLAG)):\n",
    "    index = ( CIPHER_FLAG[i] - (known_FLAG_portion[i]) ) % 128\n",
    "    possible_key +=chr(index)\n",
    "\n",
    "print(possible_key)\n"
   ]
  },
  {
   "cell_type": "markdown",
   "metadata": {},
   "source": [
    "# Finding the right key\n",
    "The attack can first look at the first 6 letters and the last letter since those are the only known portion of the flag.\n",
    "\n",
    "The attackers can easily infer the key use is `monkey`"
   ]
  },
  {
   "cell_type": "code",
   "execution_count": 25,
   "metadata": {},
   "outputs": [
    {
     "name": "stdout",
     "output_type": "stream",
     "text": [
      "fcs22{Pr0f3ss0r_D1nh_T1en_Tu@n_Anh&Ch3n_N1@ngjun}\n"
     ]
    }
   ],
   "source": [
    "CIPHER_FLAG = b'SRa\\x1d\\x17tC_\\x1fT\\x1eXl#_N2\\x1cSaRA SYDMh-]M,Sa\\x190W!YDG$-]UUZgp'\n",
    "possible_key = b'monkeys'\n",
    "possible_FLAG= ''\n",
    "t = [ [] for i in range(len(CIPHER_FLAG))]\n",
    "for i in range(len(CIPHER_FLAG)):\n",
    "    index = ( CIPHER_FLAG[i] - (possible_key[i%len(possible_key)]) ) % 128\n",
    "    possible_FLAG += chr(index)\n",
    "\n",
    "print(possible_FLAG)"
   ]
  },
  {
   "cell_type": "code",
   "execution_count": null,
   "metadata": {},
   "outputs": [],
   "source": []
  }
 ],
 "metadata": {
  "kernelspec": {
   "display_name": "Python 3.7.12 ('myenv')",
   "language": "python",
   "name": "python3"
  },
  "language_info": {
   "codemirror_mode": {
    "name": "ipython",
    "version": 3
   },
   "file_extension": ".py",
   "mimetype": "text/x-python",
   "name": "python",
   "nbconvert_exporter": "python",
   "pygments_lexer": "ipython3",
   "version": "3.7.12"
  },
  "orig_nbformat": 4,
  "vscode": {
   "interpreter": {
    "hash": "e47b1a34c05c1e3b83a62d7885c9d1b5ef8a0522d3be0182d0a008ec409b2b3d"
   }
  }
 },
 "nbformat": 4,
 "nbformat_minor": 2
}
